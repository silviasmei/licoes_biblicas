{
  "nbformat": 4,
  "nbformat_minor": 0,
  "metadata": {
    "colab": {
      "provenance": [],
      "authorship_tag": "ABX9TyMbhn4FGcui24fKNv5klxM4",
      "include_colab_link": true
    },
    "kernelspec": {
      "name": "python3",
      "display_name": "Python 3"
    },
    "language_info": {
      "name": "python"
    }
  },
  "cells": [
    {
      "cell_type": "markdown",
      "metadata": {
        "id": "view-in-github",
        "colab_type": "text"
      },
      "source": [
        "<a href=\"https://colab.research.google.com/github/silviasmei/licoes_biblicas/blob/main/gerador_licoes_biblicas.ipynb\" target=\"_parent\"><img src=\"https://colab.research.google.com/assets/colab-badge.svg\" alt=\"Open In Colab\"/></a>"
      ]
    },
    {
      "cell_type": "code",
      "execution_count": 1,
      "metadata": {
        "id": "J6Pd9SFJ1yVi"
      },
      "outputs": [],
      "source": [
        "!pip install -q -U google-generativeai"
      ]
    },
    {
      "cell_type": "code",
      "execution_count": 2,
      "metadata": {
        "id": "HTiaTu6O1LRC"
      },
      "outputs": [],
      "source": [
        "# Import the Python SDK\n",
        "import google.generativeai as genai\n",
        "# Used to securely store your API key\n",
        "from google.colab import userdata\n",
        "\n",
        "GOOGLE_API_KEY=userdata.get('MY_GOOGLE_API_KEY_')\n",
        "genai.configure(api_key=GOOGLE_API_KEY)"
      ]
    },
    {
      "cell_type": "code",
      "source": [
        "#testadas varias configuracoes e esta apresentou o melhor resultado\n",
        "generation_config = {\n",
        "    \"top_p\": 0.80,\n",
        "    \"temperature\": 0.5\n",
        "}\n"
      ],
      "metadata": {
        "id": "pQwTG6IlHtjP"
      },
      "execution_count": 3,
      "outputs": []
    },
    {
      "cell_type": "code",
      "execution_count": 4,
      "metadata": {
        "id": "s-JqXcDe2hZ_"
      },
      "outputs": [],
      "source": [
        "#usando o modelo\n",
        "model = genai.GenerativeModel(model_name=\"gemini-1.0-pro\", generation_config= generation_config)"
      ]
    },
    {
      "cell_type": "code",
      "source": [],
      "metadata": {
        "colab": {
          "base_uri": "https://localhost:8080/",
          "height": 106
        },
        "id": "updaufumZYOP",
        "outputId": "e1176871-7a78-4be0-cb67-b26fac8c60fb"
      },
      "execution_count": 54,
      "outputs": [
        {
          "output_type": "error",
          "ename": "SyntaxError",
          "evalue": "unterminated string literal (detected at line 5) (<ipython-input-54-1cc12c954a45>, line 5)",
          "traceback": [
            "\u001b[0;36m  File \u001b[0;32m\"<ipython-input-54-1cc12c954a45>\"\u001b[0;36m, line \u001b[0;32m5\u001b[0m\n\u001b[0;31m    \"versiculo\": \"“No começo Deus fez os céus e a terra...\" (Gênesis 1.1)\",\u001b[0m\n\u001b[0m                                                                         ^\u001b[0m\n\u001b[0;31mSyntaxError\u001b[0m\u001b[0;31m:\u001b[0m unterminated string literal (detected at line 5)\n"
          ]
        }
      ]
    },
    {
      "cell_type": "code",
      "execution_count": 5,
      "metadata": {
        "id": "j51mcrLD4Y2W",
        "outputId": "1d9e940f-e7e3-4b36-bc7b-431ddc54b72b",
        "colab": {
          "base_uri": "https://localhost:8080/",
          "height": 1000
        }
      },
      "outputs": [
        {
          "name": "stdout",
          "output_type": "stream",
          "text": [
            "Digite a palavra de saída do prompt exit\n",
            "Digite seu prompt Gere 2 histórias baseadas nos principais personagens bíblicos do antigo testamento, a história de cada personagem deve ser na ordem cronológica, começando pela criação\n",
            "Resposta:  **História de Adão e Eva**\n",
            "\n",
            "* **Criação:** Adão e Eva foram criados por Deus à Sua imagem e semelhança.\n",
            "* **Jardim do Éden:** Eles foram colocados no Jardim do Éden, um lugar de perfeição e abundância.\n",
            "* **Tentação:** Uma serpente, representando Satanás, tentou Eva a comer do fruto proibido da árvore do conhecimento do bem e do mal.\n",
            "* **Queda:** Eva comeu o fruto e deu a Adão, resultando na queda da humanidade do estado de inocência.\n",
            "* **Expulsão:** Deus expulsou Adão e Eva do Jardim do Éden, condenando-os ao trabalho e à mortalidade.\n",
            "\n",
            "**História de Abraão**\n",
            "\n",
            "* **Chamado:** Deus chamou Abraão de Ur dos Caldeus para ir para uma terra que Ele mostraria.\n",
            "* **Aliança:** Deus fez uma aliança com Abraão, prometendo torná-lo uma grande nação e abençoar todas as nações através dele.\n",
            "* **Sacrifício de Isaque:** Deus testou a fé de Abraão pedindo-lhe que sacrificasse seu filho Isaque, mas no último momento, forneceu um carneiro como substituto.\n",
            "* **Nascimento de Isaque:** A esposa de Abraão, Sara, deu à luz Isaque, o filho prometido.\n",
            "* **Morte:** Abraão morreu com 175 anos, tendo cumprido o propósito de Deus para sua vida. \n",
            "\n",
            "Digite seu prompt Gere 4 histórias baseadas nos principais personagens bíblicos do antigo testamento, a história de cada personagem deve ser na ordem cronológica. Para cada história, crie um título, um propósito, escolha um versículo bíblico de acordo com aquela história, e uma brincadeira de acordo com o propósito da história, o sumário da história, gere também exercícios com respostas sim ou não e outros com múltipla escolha. Use o exemplo a seguir. Título: \"A Criação\" Versículo para Memorizar: \"No começo Deus fez os céus e a terra...\" (Gênesis 1.1) Propósito: Mostrar que Deus criou todas as belas coisas do mundo para nós; devemos louvar ao Senhor e agradecer-Lhe por isso. Sumário da História: A história descreve a criação do mundo em seis dias, como narrado em Gênesis 1. Deus, a partir de um estado inicial de escuridão e água, usa Seu poder para criar a luz, separar as águas dos céus, formar a terra e os mares, e preencher o mundo com plantas, sol, lua, estrelas, peixes, pássaros e animais. No sexto dia, Deus cria o homem e a mulher, Adão e Eva, dando-lhes domínio sobre a criação. No sétimo dia, Deus descansa. Perguntas da Lição: Como era o mundo antes da criação de Deus? Como Deus fez as coisas no mundo? O que Deus fez no 1º dia? Em que dia Deus fez os Céus? O que Deus fez no 3º dia? Em que dia Deus fez o sol, a lua e as estrelas? O que Deus fez no 5º dia? Em que dia Deus fez os animais e o homem? Como se chamou o 1º homem? E a 1ª mulher? Quem deu nomes aos animais?\n",
            "Resposta:  **História 1**\n",
            "\n",
            "**Título:** A Criação\n",
            "**Versículo para Memorizar:** \"No começo Deus fez os céus e a terra...\" (Gênesis 1.1)\n",
            "**Propósito:** Mostrar que Deus criou todas as belas coisas do mundo para nós; devemos louvar ao Senhor e agradecer-Lhe por isso.\n",
            "**Sumário da História:** Deus cria o mundo em seis dias, incluindo a humanidade. Ele descansa no sétimo dia.\n",
            "**Brincadeira:** \"Quem criou o mundo? Deus fez!\"\n",
            "**Exercícios:**\n",
            "* **Sim ou Não:**\n",
            "    * Deus criou o mundo em um dia. (Não)\n",
            "    * Deus criou os animais antes dos humanos. (Sim)\n",
            "* **Múltipla Escolha:**\n",
            "    * Qual foi o primeiro dia da criação?\n",
            "        * (A) Primeiro dia\n",
            "        * (B) Segundo dia\n",
            "        * (C) Terceiro dia\n",
            "\n",
            "**História 2**\n",
            "\n",
            "**Título:** A Queda\n",
            "**Versículo para Memorizar:** \"Mas da árvore do conhecimento do bem e do mal, dela não comerás; porque no dia em que dela comeres, certamente morrerás.\" (Gênesis 2.17)\n",
            "**Propósito:** Ensinar sobre as consequências do pecado e a necessidade de confiar em Deus.\n",
            "**Sumário da História:** Adão e Eva desobedecem a Deus comendo do fruto proibido, resultando na queda da humanidade do estado de inocência.\n",
            "**Brincadeira:** \"Não coma a maçã proibida!\"\n",
            "**Exercícios:**\n",
            "* **Sim ou Não:**\n",
            "    * Adão e Eva foram criados perfeitos. (Sim)\n",
            "    * A serpente mentiu para Eva. (Sim)\n",
            "* **Múltipla Escolha:**\n",
            "    * Quem tentou Adão e Eva a pecar?\n",
            "        * (A) Deus\n",
            "        * (B) Satanás\n",
            "        * (C) Anjo\n",
            "\n",
            "**História 3**\n",
            "\n",
            "**Título:** O Dilúvio\n",
            "**Versículo para Memorizar:** \"E eis que eu trago o dilúvio das águas sobre a terra, para destruir toda a carne em que há fôlego de vida debaixo dos céus; tudo o que há na terra expirará.\" (Gênesis 6.17)\n",
            "**Propósito:** Mostrar o julgamento de Deus sobre o pecado e Sua misericórdia para com os que O obedecem.\n",
            "**Sumário da História:** Deus envia um dilúvio para destruir a terra devido à sua maldade, mas salva Noé e sua família por causa de sua fé.\n",
            "**Brincadeira:** \"Entre na arca, rápido!\"\n",
            "**Exercícios:**\n",
            "* **Sim ou Não:**\n",
            "    * O dilúvio foi um castigo de Deus. (Sim)\n",
            "    * Noé construiu a arca sozinho. (Não)\n",
            "* **Múltipla Escolha:**\n",
            "    * Quantos dias e noites choveu durante o dilúvio?\n",
            "        * (A) 40 dias e 40 noites\n",
            "        * (B) 120 dias e 120 noites\n",
            "        * (C) 150 dias e 150 noites\n",
            "\n",
            "**História 4**\n",
            "\n",
            "**Título:** A Torre de Babel\n",
            "**Versículo para Memorizar:** \"E disse o SENHOR: Eis que o povo é um, e todos têm a mesma língua; e isto é o que começam a fazer; e agora não haverá restrição para tudo o que intentarem fazer.\" (Gênesis 11.6)\n",
            "**Propósito:** Ensinar sobre a arrogância humana e a importância de confiar em Deus.\n",
            "**Sumário da História:** As pessoas tentam construir uma torre para alcançar o céu, mas Deus confunde suas línguas e as dispersa pela terra.\n",
            "**Brincadeira:** \"Não construa torres muito altas!\"\n",
            "**Exercícios:**\n",
            "* **Sim ou Não:**\n",
            "    * As pessoas queriam construir a torre para se aproximarem de Deus. (Não)\n",
            "    * Deus ficou feliz com o que as pessoas estavam fazendo. (Não)\n",
            "* **Múltipla Escolha:**\n",
            "    * Por que Deus confundiu as línguas das pessoas?\n",
            "        * (A) Porque eles estavam sendo muito orgulhosos\n",
            "        * (B) Porque eles estavam adorando ídolos\n",
            "        * (C) Porque eles estavam construindo uma torre para atacar o céu \n",
            "\n",
            "Digite seu prompt crie mais 5 histórias\n",
            "Resposta:  **História 5**\n",
            "\n",
            "**Título:** O Chamado de Abraão\n",
            "**Versículo para Memorizar:** \"Ora, o SENHOR disse a Abrão: Sai da tua terra, da tua parentela e da casa de teu pai, para a terra que eu te mostrarei.\" (Gênesis 12.1)\n",
            "**Propósito:** Ensinar sobre a fé e a obediência a Deus.\n",
            "**Sumário da História:** Deus chama Abraão para deixar sua terra e família e ir para uma terra que Ele mostrará. Abraão obedece e Deus o abençoa.\n",
            "**Brincadeira:** \"Siga o chamado de Deus!\"\n",
            "\n",
            "**História 6**\n",
            "\n",
            "**Título:** O Sacrifício de Isaque\n",
            "**Versículo para Memorizar:** \"E disse Deus: Toma agora o teu filho, o teu único filho, Isaque, a quem amas, e vai-te à terra de Moriá; e oferece-o ali em holocausto sobre uma das montanhas, que eu te direi.\" (Gênesis 22.2)\n",
            "**Propósito:** Ensinar sobre a fé e a confiança em Deus, mesmo em tempos difíceis.\n",
            "**Sumário da História:** Deus testa a fé de Abraão pedindo-lhe que sacrifique seu filho Isaque. Abraão obedece, mas no último momento, Deus fornece um carneiro como substituto.\n",
            "**Brincadeira:** \"Confie em Deus, mesmo quando as coisas não fazem sentido.\"\n",
            "\n",
            "**História 7**\n",
            "\n",
            "**Título:** A Escravidão no Egito\n",
            "**Versículo para Memorizar:** \"Então o SENHOR disse a Moisés: Vai, porque eu te envio a Faraó, para que tires do Egito o meu povo, os filhos de Israel.\" (Êxodo 3.10)\n",
            "**Propósito:** Ensinar sobre a libertação de Deus e Sua proteção sobre Seu povo.\n",
            "**Sumário da História:** Os israelitas são escravizados no Egito, mas Deus os liberta por meio de Moisés. Ele os conduz através do deserto e os leva para a Terra Prometida.\n",
            "**Brincadeira:** \"Deus nos liberta da escravidão!\"\n",
            "\n",
            "**História 8**\n",
            "\n",
            "**Título:** Os Dez Mandamentos\n",
            "**Versículo para Memorizar:** \"E Deus falou todas estas palavras, dizendo: Eu sou o SENHOR teu Deus, que te tirei da terra do Egito, da casa da servidão.\" (Êxodo 20.1-2)\n",
            "**Propósito:** Ensinar sobre as leis de Deus e a importância de obedecê-las.\n",
            "**Sumário da História:** Deus dá a Moisés os Dez Mandamentos, que são um guia para viver uma vida justa e piedosa.\n",
            "**Brincadeira:** \"Siga as leis de Deus!\"\n",
            "\n",
            "**História 9**\n",
            "\n",
            "**Título:** A Conquista de Canaã\n",
            "**Versículo para Memorizar:** \"E disse o SENHOR a Josué: Não temas, nem te espantes; toma contigo todo o povo da guerra, e levanta-te, e sobe a Ai; vê que tenho dado na tua mão o rei de Ai, e o seu povo, e a sua cidade, e a sua terra.\" (Josué 8.1)\n",
            "**Propósito:** Ensinar sobre a vitória de Deus e a importância de confiar Nele.\n",
            "**Sumário da História:** Os israelitas conquistam a Terra Prometida sob a liderança de Josué. Deus os ajuda a vencer seus inimigos e a estabelecer sua nação.\n",
            "**Brincadeira:** \"Deus nos dá a vitória!\" \n",
            "\n",
            "Digite seu prompt crie mais 2 histórias\n",
            "Resposta:  **História 10**\n",
            "\n",
            "**Título:** O Reinado de Davi\n",
            "**Versículo para Memorizar:** \"E disse o SENHOR a Samuel: Até quando terás dó de Saul, havendo-o eu rejeitado, para que não reine sobre Israel? Enche um chifre de azeite, e vem, enviar-te-ei a Jessé, o belemita; porque dentre os seus filhos me provi um rei.\" (1 Samuel 16.1)\n",
            "**Propósito:** Ensinar sobre a soberania de Deus e Sua escolha de líderes.\n",
            "**Sumário da História:** Deus unge Davi como rei de Israel, embora ele seja o filho mais jovem de Jessé. Davi derrota Golias e se torna um grande rei, conhecido por sua sabedoria e piedade.\n",
            "**Brincadeira:** \"Deus escolhe os líderes que Ele quer!\"\n",
            "\n",
            "**História 11**\n",
            "\n",
            "**Título:** O Cativeiro Babilônico\n",
            "**Versículo para Memorizar:** \"Assim diz o SENHOR dos Exércitos, o Deus de Israel, a todo o povo que fiz transportar de Jerusalém para Babilônia:\" (Jeremias 29.4)\n",
            "**Propósito:** Ensinar sobre as consequências do pecado e a esperança da restauração.\n",
            "**Sumário da História:** Os israelitas são levados cativos para a Babilônia por causa de sua desobediência a Deus. Eles sofrem no exílio, mas Deus promete restaurá-los à sua terra após 70 anos.\n",
            "**Brincadeira:** \"Deus disciplina Seu povo, mas Ele também os restaura!\" \n",
            "\n",
            "Digite seu prompt exit\n"
          ]
        }
      ],
      "source": [
        "#usando o modelo para gerar conteúdo\n",
        "#response = model.generate_content(\"Liste os principais personagens bíblicos do antigo testamento\")\n",
        "#print(response.text)\n",
        "\n",
        "prompt_saida = input(\"Digite a palavra de saída do prompt \")\n",
        "prompt = input(\"Digite seu prompt \")\n",
        "\n",
        "chat = model.start_chat(history=[])\n",
        "while (prompt!=prompt_saida):\n",
        "  response = chat.send_message(prompt)\n",
        "  print(\"Resposta: \", response.text, \"\\n\")\n",
        "  prompt = input(\"Digite seu prompt \")\n"
      ]
    },
    {
      "cell_type": "code",
      "source": [
        "#Código disponível em https://ai.google.dev/tutorials/python_quickstart#import_packages\n",
        "import textwrap\n",
        "\n",
        "import google.generativeai as genai\n",
        "\n",
        "from IPython.display import display\n",
        "from IPython.display import Markdown\n",
        "\n",
        "\n",
        "def to_markdown(text):\n",
        "  text = text.replace('•', '  *')\n",
        "  return Markdown(textwrap.indent(text, '> ', predicate=lambda _: True))\n",
        "\n",
        "#Imprimindo o histórico\n",
        "for message in chat.history:\n",
        "  display(to_markdown(f'**{message.role}**: {message.parts[0].text}'))\n",
        "  print('-------------------------------------------')"
      ],
      "metadata": {
        "colab": {
          "base_uri": "https://localhost:8080/",
          "height": 1000
        },
        "id": "Z9-oLCDOXte4",
        "outputId": "e8aa6b77-a8a7-413d-be71-d23dbc7a38a7"
      },
      "execution_count": 6,
      "outputs": [
        {
          "output_type": "display_data",
          "data": {
            "text/plain": [
              "<IPython.core.display.Markdown object>"
            ],
            "text/markdown": "> **user**: Gere 2 histórias baseadas nos principais personagens bíblicos do antigo testamento, a história de cada personagem deve ser na ordem cronológica, começando pela criação"
          },
          "metadata": {}
        },
        {
          "output_type": "stream",
          "name": "stdout",
          "text": [
            "-------------------------------------------\n"
          ]
        },
        {
          "output_type": "display_data",
          "data": {
            "text/plain": [
              "<IPython.core.display.Markdown object>"
            ],
            "text/markdown": "> **model**: **História de Adão e Eva**\n> \n> * **Criação:** Adão e Eva foram criados por Deus à Sua imagem e semelhança.\n> * **Jardim do Éden:** Eles foram colocados no Jardim do Éden, um lugar de perfeição e abundância.\n> * **Tentação:** Uma serpente, representando Satanás, tentou Eva a comer do fruto proibido da árvore do conhecimento do bem e do mal.\n> * **Queda:** Eva comeu o fruto e deu a Adão, resultando na queda da humanidade do estado de inocência.\n> * **Expulsão:** Deus expulsou Adão e Eva do Jardim do Éden, condenando-os ao trabalho e à mortalidade.\n> \n> **História de Abraão**\n> \n> * **Chamado:** Deus chamou Abraão de Ur dos Caldeus para ir para uma terra que Ele mostraria.\n> * **Aliança:** Deus fez uma aliança com Abraão, prometendo torná-lo uma grande nação e abençoar todas as nações através dele.\n> * **Sacrifício de Isaque:** Deus testou a fé de Abraão pedindo-lhe que sacrificasse seu filho Isaque, mas no último momento, forneceu um carneiro como substituto.\n> * **Nascimento de Isaque:** A esposa de Abraão, Sara, deu à luz Isaque, o filho prometido.\n> * **Morte:** Abraão morreu com 175 anos, tendo cumprido o propósito de Deus para sua vida."
          },
          "metadata": {}
        },
        {
          "output_type": "stream",
          "name": "stdout",
          "text": [
            "-------------------------------------------\n"
          ]
        },
        {
          "output_type": "display_data",
          "data": {
            "text/plain": [
              "<IPython.core.display.Markdown object>"
            ],
            "text/markdown": "> **user**: Gere 4 histórias baseadas nos principais personagens bíblicos do antigo testamento, a história de cada personagem deve ser na ordem cronológica. Para cada história, crie um título, um propósito, escolha um versículo bíblico de acordo com aquela história, e uma brincadeira de acordo com o propósito da história, o sumário da história, gere também exercícios com respostas sim ou não e outros com múltipla escolha. Use o exemplo a seguir. Título: \"A Criação\" Versículo para Memorizar: \"No começo Deus fez os céus e a terra...\" (Gênesis 1.1) Propósito: Mostrar que Deus criou todas as belas coisas do mundo para nós; devemos louvar ao Senhor e agradecer-Lhe por isso. Sumário da História: A história descreve a criação do mundo em seis dias, como narrado em Gênesis 1. Deus, a partir de um estado inicial de escuridão e água, usa Seu poder para criar a luz, separar as águas dos céus, formar a terra e os mares, e preencher o mundo com plantas, sol, lua, estrelas, peixes, pássaros e animais. No sexto dia, Deus cria o homem e a mulher, Adão e Eva, dando-lhes domínio sobre a criação. No sétimo dia, Deus descansa. Perguntas da Lição: Como era o mundo antes da criação de Deus? Como Deus fez as coisas no mundo? O que Deus fez no 1º dia? Em que dia Deus fez os Céus? O que Deus fez no 3º dia? Em que dia Deus fez o sol, a lua e as estrelas? O que Deus fez no 5º dia? Em que dia Deus fez os animais e o homem? Como se chamou o 1º homem? E a 1ª mulher? Quem deu nomes aos animais?"
          },
          "metadata": {}
        },
        {
          "output_type": "stream",
          "name": "stdout",
          "text": [
            "-------------------------------------------\n"
          ]
        },
        {
          "output_type": "display_data",
          "data": {
            "text/plain": [
              "<IPython.core.display.Markdown object>"
            ],
            "text/markdown": "> **model**: **História 1**\n> \n> **Título:** A Criação\n> **Versículo para Memorizar:** \"No começo Deus fez os céus e a terra...\" (Gênesis 1.1)\n> **Propósito:** Mostrar que Deus criou todas as belas coisas do mundo para nós; devemos louvar ao Senhor e agradecer-Lhe por isso.\n> **Sumário da História:** Deus cria o mundo em seis dias, incluindo a humanidade. Ele descansa no sétimo dia.\n> **Brincadeira:** \"Quem criou o mundo? Deus fez!\"\n> **Exercícios:**\n> * **Sim ou Não:**\n>     * Deus criou o mundo em um dia. (Não)\n>     * Deus criou os animais antes dos humanos. (Sim)\n> * **Múltipla Escolha:**\n>     * Qual foi o primeiro dia da criação?\n>         * (A) Primeiro dia\n>         * (B) Segundo dia\n>         * (C) Terceiro dia\n> \n> **História 2**\n> \n> **Título:** A Queda\n> **Versículo para Memorizar:** \"Mas da árvore do conhecimento do bem e do mal, dela não comerás; porque no dia em que dela comeres, certamente morrerás.\" (Gênesis 2.17)\n> **Propósito:** Ensinar sobre as consequências do pecado e a necessidade de confiar em Deus.\n> **Sumário da História:** Adão e Eva desobedecem a Deus comendo do fruto proibido, resultando na queda da humanidade do estado de inocência.\n> **Brincadeira:** \"Não coma a maçã proibida!\"\n> **Exercícios:**\n> * **Sim ou Não:**\n>     * Adão e Eva foram criados perfeitos. (Sim)\n>     * A serpente mentiu para Eva. (Sim)\n> * **Múltipla Escolha:**\n>     * Quem tentou Adão e Eva a pecar?\n>         * (A) Deus\n>         * (B) Satanás\n>         * (C) Anjo\n> \n> **História 3**\n> \n> **Título:** O Dilúvio\n> **Versículo para Memorizar:** \"E eis que eu trago o dilúvio das águas sobre a terra, para destruir toda a carne em que há fôlego de vida debaixo dos céus; tudo o que há na terra expirará.\" (Gênesis 6.17)\n> **Propósito:** Mostrar o julgamento de Deus sobre o pecado e Sua misericórdia para com os que O obedecem.\n> **Sumário da História:** Deus envia um dilúvio para destruir a terra devido à sua maldade, mas salva Noé e sua família por causa de sua fé.\n> **Brincadeira:** \"Entre na arca, rápido!\"\n> **Exercícios:**\n> * **Sim ou Não:**\n>     * O dilúvio foi um castigo de Deus. (Sim)\n>     * Noé construiu a arca sozinho. (Não)\n> * **Múltipla Escolha:**\n>     * Quantos dias e noites choveu durante o dilúvio?\n>         * (A) 40 dias e 40 noites\n>         * (B) 120 dias e 120 noites\n>         * (C) 150 dias e 150 noites\n> \n> **História 4**\n> \n> **Título:** A Torre de Babel\n> **Versículo para Memorizar:** \"E disse o SENHOR: Eis que o povo é um, e todos têm a mesma língua; e isto é o que começam a fazer; e agora não haverá restrição para tudo o que intentarem fazer.\" (Gênesis 11.6)\n> **Propósito:** Ensinar sobre a arrogância humana e a importância de confiar em Deus.\n> **Sumário da História:** As pessoas tentam construir uma torre para alcançar o céu, mas Deus confunde suas línguas e as dispersa pela terra.\n> **Brincadeira:** \"Não construa torres muito altas!\"\n> **Exercícios:**\n> * **Sim ou Não:**\n>     * As pessoas queriam construir a torre para se aproximarem de Deus. (Não)\n>     * Deus ficou feliz com o que as pessoas estavam fazendo. (Não)\n> * **Múltipla Escolha:**\n>     * Por que Deus confundiu as línguas das pessoas?\n>         * (A) Porque eles estavam sendo muito orgulhosos\n>         * (B) Porque eles estavam adorando ídolos\n>         * (C) Porque eles estavam construindo uma torre para atacar o céu"
          },
          "metadata": {}
        },
        {
          "output_type": "stream",
          "name": "stdout",
          "text": [
            "-------------------------------------------\n"
          ]
        },
        {
          "output_type": "display_data",
          "data": {
            "text/plain": [
              "<IPython.core.display.Markdown object>"
            ],
            "text/markdown": "> **user**: crie mais 5 histórias"
          },
          "metadata": {}
        },
        {
          "output_type": "stream",
          "name": "stdout",
          "text": [
            "-------------------------------------------\n"
          ]
        },
        {
          "output_type": "display_data",
          "data": {
            "text/plain": [
              "<IPython.core.display.Markdown object>"
            ],
            "text/markdown": "> **model**: **História 5**\n> \n> **Título:** O Chamado de Abraão\n> **Versículo para Memorizar:** \"Ora, o SENHOR disse a Abrão: Sai da tua terra, da tua parentela e da casa de teu pai, para a terra que eu te mostrarei.\" (Gênesis 12.1)\n> **Propósito:** Ensinar sobre a fé e a obediência a Deus.\n> **Sumário da História:** Deus chama Abraão para deixar sua terra e família e ir para uma terra que Ele mostrará. Abraão obedece e Deus o abençoa.\n> **Brincadeira:** \"Siga o chamado de Deus!\"\n> \n> **História 6**\n> \n> **Título:** O Sacrifício de Isaque\n> **Versículo para Memorizar:** \"E disse Deus: Toma agora o teu filho, o teu único filho, Isaque, a quem amas, e vai-te à terra de Moriá; e oferece-o ali em holocausto sobre uma das montanhas, que eu te direi.\" (Gênesis 22.2)\n> **Propósito:** Ensinar sobre a fé e a confiança em Deus, mesmo em tempos difíceis.\n> **Sumário da História:** Deus testa a fé de Abraão pedindo-lhe que sacrifique seu filho Isaque. Abraão obedece, mas no último momento, Deus fornece um carneiro como substituto.\n> **Brincadeira:** \"Confie em Deus, mesmo quando as coisas não fazem sentido.\"\n> \n> **História 7**\n> \n> **Título:** A Escravidão no Egito\n> **Versículo para Memorizar:** \"Então o SENHOR disse a Moisés: Vai, porque eu te envio a Faraó, para que tires do Egito o meu povo, os filhos de Israel.\" (Êxodo 3.10)\n> **Propósito:** Ensinar sobre a libertação de Deus e Sua proteção sobre Seu povo.\n> **Sumário da História:** Os israelitas são escravizados no Egito, mas Deus os liberta por meio de Moisés. Ele os conduz através do deserto e os leva para a Terra Prometida.\n> **Brincadeira:** \"Deus nos liberta da escravidão!\"\n> \n> **História 8**\n> \n> **Título:** Os Dez Mandamentos\n> **Versículo para Memorizar:** \"E Deus falou todas estas palavras, dizendo: Eu sou o SENHOR teu Deus, que te tirei da terra do Egito, da casa da servidão.\" (Êxodo 20.1-2)\n> **Propósito:** Ensinar sobre as leis de Deus e a importância de obedecê-las.\n> **Sumário da História:** Deus dá a Moisés os Dez Mandamentos, que são um guia para viver uma vida justa e piedosa.\n> **Brincadeira:** \"Siga as leis de Deus!\"\n> \n> **História 9**\n> \n> **Título:** A Conquista de Canaã\n> **Versículo para Memorizar:** \"E disse o SENHOR a Josué: Não temas, nem te espantes; toma contigo todo o povo da guerra, e levanta-te, e sobe a Ai; vê que tenho dado na tua mão o rei de Ai, e o seu povo, e a sua cidade, e a sua terra.\" (Josué 8.1)\n> **Propósito:** Ensinar sobre a vitória de Deus e a importância de confiar Nele.\n> **Sumário da História:** Os israelitas conquistam a Terra Prometida sob a liderança de Josué. Deus os ajuda a vencer seus inimigos e a estabelecer sua nação.\n> **Brincadeira:** \"Deus nos dá a vitória!\""
          },
          "metadata": {}
        },
        {
          "output_type": "stream",
          "name": "stdout",
          "text": [
            "-------------------------------------------\n"
          ]
        },
        {
          "output_type": "display_data",
          "data": {
            "text/plain": [
              "<IPython.core.display.Markdown object>"
            ],
            "text/markdown": "> **user**: crie mais 2 histórias"
          },
          "metadata": {}
        },
        {
          "output_type": "stream",
          "name": "stdout",
          "text": [
            "-------------------------------------------\n"
          ]
        },
        {
          "output_type": "display_data",
          "data": {
            "text/plain": [
              "<IPython.core.display.Markdown object>"
            ],
            "text/markdown": "> **model**: **História 10**\n> \n> **Título:** O Reinado de Davi\n> **Versículo para Memorizar:** \"E disse o SENHOR a Samuel: Até quando terás dó de Saul, havendo-o eu rejeitado, para que não reine sobre Israel? Enche um chifre de azeite, e vem, enviar-te-ei a Jessé, o belemita; porque dentre os seus filhos me provi um rei.\" (1 Samuel 16.1)\n> **Propósito:** Ensinar sobre a soberania de Deus e Sua escolha de líderes.\n> **Sumário da História:** Deus unge Davi como rei de Israel, embora ele seja o filho mais jovem de Jessé. Davi derrota Golias e se torna um grande rei, conhecido por sua sabedoria e piedade.\n> **Brincadeira:** \"Deus escolhe os líderes que Ele quer!\"\n> \n> **História 11**\n> \n> **Título:** O Cativeiro Babilônico\n> **Versículo para Memorizar:** \"Assim diz o SENHOR dos Exércitos, o Deus de Israel, a todo o povo que fiz transportar de Jerusalém para Babilônia:\" (Jeremias 29.4)\n> **Propósito:** Ensinar sobre as consequências do pecado e a esperança da restauração.\n> **Sumário da História:** Os israelitas são levados cativos para a Babilônia por causa de sua desobediência a Deus. Eles sofrem no exílio, mas Deus promete restaurá-los à sua terra após 70 anos.\n> **Brincadeira:** \"Deus disciplina Seu povo, mas Ele também os restaura!\""
          },
          "metadata": {}
        },
        {
          "output_type": "stream",
          "name": "stdout",
          "text": [
            "-------------------------------------------\n"
          ]
        }
      ]
    }
  ]
}